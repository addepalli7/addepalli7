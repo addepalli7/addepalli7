{
 "cells": [
  {
   "cell_type": "markdown",
   "id": "b49318ff-20b8-4c9f-b92c-33c3b71e0796",
   "metadata": {},
   "source": [
    "# The Problem Statement (ask by CEO)\n",
    "##### Determine the states that are generating the highest revenues and\r",
    "###### \tFormulate sales programs for states with lower revenues. The Head of S&M has approached you for the same.\n",
    "## Approach\n",
    "##### Basic study of the data list the inferences\n",
    "##### EDA using python\n",
    "##### Create hypothesis based on sales data which will help finalize strategy\n",
    "##### Hypotheisis Testing\n",
    "##### Prepare a Report\n",
    "\r\n"
   ]
  },
  {
   "cell_type": "markdown",
   "id": "ada665ea-b164-497c-8ae4-7fd2a448513a",
   "metadata": {},
   "source": [
    "##### Step 1 Read the datafile AusApparalSales4thQrt2020.csv using pandas read_csv. Validate the data has been imported successfully"
   ]
  },
  {
   "cell_type": "code",
   "execution_count": 6,
   "id": "0ae46095-432b-428c-918a-d9d249047439",
   "metadata": {},
   "outputs": [
    {
     "data": {
      "text/html": [
       "<div>\n",
       "<style scoped>\n",
       "    .dataframe tbody tr th:only-of-type {\n",
       "        vertical-align: middle;\n",
       "    }\n",
       "\n",
       "    .dataframe tbody tr th {\n",
       "        vertical-align: top;\n",
       "    }\n",
       "\n",
       "    .dataframe thead th {\n",
       "        text-align: right;\n",
       "    }\n",
       "</style>\n",
       "<table border=\"1\" class=\"dataframe\">\n",
       "  <thead>\n",
       "    <tr style=\"text-align: right;\">\n",
       "      <th></th>\n",
       "      <th>Date</th>\n",
       "      <th>Time</th>\n",
       "      <th>State</th>\n",
       "      <th>Group</th>\n",
       "      <th>Unit</th>\n",
       "      <th>Sales</th>\n",
       "    </tr>\n",
       "  </thead>\n",
       "  <tbody>\n",
       "    <tr>\n",
       "      <th>0</th>\n",
       "      <td>1-Oct-2020</td>\n",
       "      <td>Morning</td>\n",
       "      <td>WA</td>\n",
       "      <td>Kids</td>\n",
       "      <td>8</td>\n",
       "      <td>20000</td>\n",
       "    </tr>\n",
       "    <tr>\n",
       "      <th>1</th>\n",
       "      <td>1-Oct-2020</td>\n",
       "      <td>Morning</td>\n",
       "      <td>WA</td>\n",
       "      <td>Men</td>\n",
       "      <td>8</td>\n",
       "      <td>20000</td>\n",
       "    </tr>\n",
       "    <tr>\n",
       "      <th>2</th>\n",
       "      <td>1-Oct-2020</td>\n",
       "      <td>Morning</td>\n",
       "      <td>WA</td>\n",
       "      <td>Women</td>\n",
       "      <td>4</td>\n",
       "      <td>10000</td>\n",
       "    </tr>\n",
       "    <tr>\n",
       "      <th>3</th>\n",
       "      <td>1-Oct-2020</td>\n",
       "      <td>Morning</td>\n",
       "      <td>WA</td>\n",
       "      <td>Seniors</td>\n",
       "      <td>15</td>\n",
       "      <td>37500</td>\n",
       "    </tr>\n",
       "    <tr>\n",
       "      <th>4</th>\n",
       "      <td>1-Oct-2020</td>\n",
       "      <td>Afternoon</td>\n",
       "      <td>WA</td>\n",
       "      <td>Kids</td>\n",
       "      <td>3</td>\n",
       "      <td>7500</td>\n",
       "    </tr>\n",
       "  </tbody>\n",
       "</table>\n",
       "</div>"
      ],
      "text/plain": [
       "         Date        Time State     Group  Unit  Sales\n",
       "0  1-Oct-2020     Morning    WA      Kids     8  20000\n",
       "1  1-Oct-2020     Morning    WA       Men     8  20000\n",
       "2  1-Oct-2020     Morning    WA     Women     4  10000\n",
       "3  1-Oct-2020     Morning    WA   Seniors    15  37500\n",
       "4  1-Oct-2020   Afternoon    WA      Kids     3   7500"
      ]
     },
     "execution_count": 6,
     "metadata": {},
     "output_type": "execute_result"
    }
   ],
   "source": [
    "import pandas as pd\n",
    "\n",
    "df_sales = pd.read_csv('AusApparalSales4thQrt2020.csv')\n",
    "df_sales.head()"
   ]
  },
  {
   "cell_type": "markdown",
   "id": "9eee82cb-85ba-4ceb-a8ab-aa9affd8cfc1",
   "metadata": {},
   "source": [
    "##### Step 2 Do basics Data Integrity checks"
   ]
  },
  {
   "cell_type": "code",
   "execution_count": null,
   "id": "27e5f16e-4988-4aa1-b8b4-182ab91f469f",
   "metadata": {},
   "outputs": [],
   "source": [
    "print('Sales Dataset basic information')\n",
    "print(df_sales.info())\n",
    "print()\n",
    "print('Describe the Sales Dataset')\n",
    "print(df_sales.describe())\n",
    "print()\n",
    "print('Identify Duplicate rows')\n",
    "duplicate_rows = df_sales[df_sales.duplicated(['Date','Time','State','Group' ])]\n",
    "results = duplicate_rows.empty\n",
    "if results:\n",
    "    print('Duplicate Row with selected columns check :', 'No Duplicate Rows observed')\n",
    "else:\n",
    "    print(duplicate_rows)\n",
    "print()\n",
    "print('Identy Columns with Null data')\n",
    "print(df_sales.isnull().sum())\n",
    "print()\n",
    "print('Identy records with any date post sales quarter ie greater thatn 30th december2020')\n",
    "print('Maximum Date in dataset : ', pd.to_datetime(df_sales['Date']).max())\n",
    "print('Minimum Date in dataset : ', pd.to_datetime(df_sales['Date']).min())\n",
    "#missing dates slates in dataset\n",
    "\n",
    "qtr_date_range = [pd.date_range(start='2020-10-01', end ='2020-12-31', freq='D')]\n",
    "\n"
   ]
  },
  {
   "cell_type": "code",
   "execution_count": 47,
   "id": "0c2066a2-dbf4-4bd1-83bb-3896e1377016",
   "metadata": {},
   "outputs": [],
   "source": [
    "# sale_days =[]\n",
    "# for row in df_sales.iterrows():\n",
    "#     sale_days.append(df_sales['Date'])\n",
    "\n",
    "# sale_days\n",
    "# qtr_date_range"
   ]
  },
  {
   "cell_type": "markdown",
   "id": "33166ec3-8033-4392-97d0-14ce4dcc4d49",
   "metadata": {},
   "source": [
    "##### Step 3 : Data Wrangling "
   ]
  },
  {
   "cell_type": "code",
   "execution_count": 74,
   "id": "ce25c33f-f304-4f82-9f83-c73210bc0e17",
   "metadata": {},
   "outputs": [
    {
     "ename": "TypeError",
     "evalue": "Cannot convert input [0      2020-10-01\n1      2020-10-01\n2      2020-10-01\n3      2020-10-01\n4      2020-10-01\n          ...    \n7555   2020-12-30\n7556   2020-12-30\n7557   2020-12-30\n7558   2020-12-30\n7559   2020-12-30\nName: Date, Length: 7560, dtype: datetime64[ns]] of type <class 'pandas.core.series.Series'> to Timestamp",
     "output_type": "error",
     "traceback": [
      "\u001b[1;31m---------------------------------------------------------------------------\u001b[0m",
      "\u001b[1;31mTypeError\u001b[0m                                 Traceback (most recent call last)",
      "Cell \u001b[1;32mIn[74], line 6\u001b[0m\n\u001b[0;32m      4\u001b[0m \u001b[38;5;66;03m#Create new columns for Actual date, day,month,year,weekend yes or no) - This will help for further analytics\u001b[39;00m\n\u001b[0;32m      5\u001b[0m df_sales[\u001b[38;5;124m'\u001b[39m\u001b[38;5;124mDay\u001b[39m\u001b[38;5;124m'\u001b[39m] \u001b[38;5;241m=\u001b[39m df_sales[\u001b[38;5;124m'\u001b[39m\u001b[38;5;124mDate\u001b[39m\u001b[38;5;124m'\u001b[39m]\u001b[38;5;241m.\u001b[39mdt\u001b[38;5;241m.\u001b[39mday\n\u001b[1;32m----> 6\u001b[0m timestamp \u001b[38;5;241m=\u001b[39m \u001b[43mpd\u001b[49m\u001b[38;5;241;43m.\u001b[39;49m\u001b[43mTimestamp\u001b[49m\u001b[43m(\u001b[49m\u001b[43mdf_sales\u001b[49m\u001b[43m[\u001b[49m\u001b[38;5;124;43m'\u001b[39;49m\u001b[38;5;124;43mDate\u001b[39;49m\u001b[38;5;124;43m'\u001b[39;49m\u001b[43m]\u001b[49m\u001b[43m)\u001b[49m\n\u001b[0;32m      7\u001b[0m df_sales[\u001b[38;5;124m'\u001b[39m\u001b[38;5;124mWeekday\u001b[39m\u001b[38;5;124m'\u001b[39m] \u001b[38;5;241m=\u001b[39m df_sales[\u001b[38;5;124m'\u001b[39m\u001b[38;5;124mDate\u001b[39m\u001b[38;5;124m'\u001b[39m]\u001b[38;5;241m.\u001b[39mdt\u001b[38;5;241m.\u001b[39mweekday\n\u001b[0;32m      8\u001b[0m df_sales[\u001b[38;5;124m'\u001b[39m\u001b[38;5;124mWeekofYear\u001b[39m\u001b[38;5;124m'\u001b[39m] \u001b[38;5;241m=\u001b[39m timestamp\u001b[38;5;241m.\u001b[39mweekofyear\n",
      "File \u001b[1;32mtimestamps.pyx:1865\u001b[0m, in \u001b[0;36mpandas._libs.tslibs.timestamps.Timestamp.__new__\u001b[1;34m()\u001b[0m\n",
      "File \u001b[1;32mconversion.pyx:425\u001b[0m, in \u001b[0;36mpandas._libs.tslibs.conversion.convert_to_tsobject\u001b[1;34m()\u001b[0m\n",
      "\u001b[1;31mTypeError\u001b[0m: Cannot convert input [0      2020-10-01\n1      2020-10-01\n2      2020-10-01\n3      2020-10-01\n4      2020-10-01\n          ...    \n7555   2020-12-30\n7556   2020-12-30\n7557   2020-12-30\n7558   2020-12-30\n7559   2020-12-30\nName: Date, Length: 7560, dtype: datetime64[ns]] of type <class 'pandas.core.series.Series'> to Timestamp"
     ]
    }
   ],
   "source": [
    "#Column Date \n",
    "#Convert Date column to Datetime\n",
    "df_sales['Date']= pd.to_datetime(df_sales['Date'])\n",
    "#Create new columns for Actual date, day,month,year,weekend yes or no) - This will help for further analytics\n",
    "df_sales['Day'] = df_sales['Date'].dt.day\n",
    "timestamp = pd.Timestamp(df_sales['Date'])\n",
    "df_sales['Weekday'] = df_sales['Date'].dt.weekday\n",
    "df_sales['WeekofYear'] = timestamp.weekofyear\n",
    "df_sales['Month'] = df_sales['Date'].dt.month\n",
    "df_sales['Year'] = df_sales['Date'].dt.year\n",
    "# For Column Time, State and Group - Do lable encoding\n",
    "from sklearn.preprocessing import LabelEncoder\n",
    "label_encoder = LabelEncoder()\n",
    "df_sales['Time_encoded'] = label_encoder.fit_transform(df_sales['Time'])\n",
    "df_sales['Sate_encoded'] = label_encoder.fit_transform(df_sales['State'])\n",
    "df_sales['Group_encoded'] = label_encoder.fit_transform(df_sales['Group'])\n",
    "# Add column for Avg per unit sale price\n",
    "df_sales['PerUnitSaleAmt'] = df_sales['Sales'] / df_sales['Unit']\n",
    "df_sales.head(5)"
   ]
  },
  {
   "cell_type": "markdown",
   "id": "4ed8d232-8955-4149-a30b-9f281f421868",
   "metadata": {},
   "source": [
    "# Exploratory Data Analysis"
   ]
  },
  {
   "cell_type": "code",
   "execution_count": 16,
   "id": "94ed783c-383e-40f2-a28f-db45c27b12e9",
   "metadata": {},
   "outputs": [
    {
     "name": "stdout",
     "output_type": "stream",
     "text": [
      "      Month  Day State     Group   Sales\n",
      "0        10    1   NSW      Kids  252500\n",
      "1        10    1   NSW       Men  187500\n",
      "2        10    1   NSW   Seniors  202500\n",
      "3        10    1   NSW     Women  235000\n",
      "4        10    1    NT      Kids   97500\n",
      "...     ...  ...   ...       ...     ...\n",
      "2515     12   30   VIC     Women  272500\n",
      "2516     12   30    WA      Kids   80000\n",
      "2517     12   30    WA       Men   77500\n",
      "2518     12   30    WA   Seniors   82500\n",
      "2519     12   30    WA     Women  100000\n",
      "\n",
      "[2520 rows x 5 columns]\n",
      "\n"
     ]
    }
   ],
   "source": [
    "df_grouped_month = df_sales.groupby(['Month','Day','State','Group'])['Sales'].sum().reset_index()\n",
    "print(df_grouped_month)\n",
    "print()\n",
    "#df_grouped_month = df_sales.groupby(['Month','State', 'Group'])['Sales'].sum().reset_index()"
   ]
  },
  {
   "cell_type": "code",
   "execution_count": 59,
   "id": "349df19f-6e36-4243-920e-b4a1207abcb7",
   "metadata": {},
   "outputs": [
    {
     "data": {
      "text/html": [
       "<div>\n",
       "<style scoped>\n",
       "    .dataframe tbody tr th:only-of-type {\n",
       "        vertical-align: middle;\n",
       "    }\n",
       "\n",
       "    .dataframe tbody tr th {\n",
       "        vertical-align: top;\n",
       "    }\n",
       "\n",
       "    .dataframe thead th {\n",
       "        text-align: right;\n",
       "    }\n",
       "</style>\n",
       "<table border=\"1\" class=\"dataframe\">\n",
       "  <thead>\n",
       "    <tr style=\"text-align: right;\">\n",
       "      <th></th>\n",
       "      <th>Group</th>\n",
       "      <th>Sales</th>\n",
       "    </tr>\n",
       "  </thead>\n",
       "  <tbody>\n",
       "    <tr>\n",
       "      <th>0</th>\n",
       "      <td>Kids</td>\n",
       "      <td>85072500</td>\n",
       "    </tr>\n",
       "    <tr>\n",
       "      <th>1</th>\n",
       "      <td>Men</td>\n",
       "      <td>85750000</td>\n",
       "    </tr>\n",
       "    <tr>\n",
       "      <th>2</th>\n",
       "      <td>Seniors</td>\n",
       "      <td>84037500</td>\n",
       "    </tr>\n",
       "    <tr>\n",
       "      <th>3</th>\n",
       "      <td>Women</td>\n",
       "      <td>85442500</td>\n",
       "    </tr>\n",
       "  </tbody>\n",
       "</table>\n",
       "</div>"
      ],
      "text/plain": [
       "      Group     Sales\n",
       "0      Kids  85072500\n",
       "1       Men  85750000\n",
       "2   Seniors  84037500\n",
       "3     Women  85442500"
      ]
     },
     "execution_count": 59,
     "metadata": {},
     "output_type": "execute_result"
    }
   ],
   "source": [
    "df_grouped_by_group = df_sales.groupby(['Group'])['Sales'].sum().reset_index()\n",
    "df_grouped_by_group"
   ]
  },
  {
   "cell_type": "code",
   "execution_count": 58,
   "id": "9699b355-146d-43b9-a638-e2d63dcc7fe3",
   "metadata": {},
   "outputs": [
    {
     "data": {
      "text/html": [
       "<div>\n",
       "<style scoped>\n",
       "    .dataframe tbody tr th:only-of-type {\n",
       "        vertical-align: middle;\n",
       "    }\n",
       "\n",
       "    .dataframe tbody tr th {\n",
       "        vertical-align: top;\n",
       "    }\n",
       "\n",
       "    .dataframe thead th {\n",
       "        text-align: right;\n",
       "    }\n",
       "</style>\n",
       "<table border=\"1\" class=\"dataframe\">\n",
       "  <thead>\n",
       "    <tr style=\"text-align: right;\">\n",
       "      <th></th>\n",
       "      <th>State</th>\n",
       "      <th>Sales</th>\n",
       "    </tr>\n",
       "  </thead>\n",
       "  <tbody>\n",
       "    <tr>\n",
       "      <th>0</th>\n",
       "      <td>NSW</td>\n",
       "      <td>74970000</td>\n",
       "    </tr>\n",
       "    <tr>\n",
       "      <th>1</th>\n",
       "      <td>NT</td>\n",
       "      <td>22580000</td>\n",
       "    </tr>\n",
       "    <tr>\n",
       "      <th>2</th>\n",
       "      <td>QLD</td>\n",
       "      <td>33417500</td>\n",
       "    </tr>\n",
       "    <tr>\n",
       "      <th>3</th>\n",
       "      <td>SA</td>\n",
       "      <td>58857500</td>\n",
       "    </tr>\n",
       "    <tr>\n",
       "      <th>4</th>\n",
       "      <td>TAS</td>\n",
       "      <td>22760000</td>\n",
       "    </tr>\n",
       "    <tr>\n",
       "      <th>5</th>\n",
       "      <td>VIC</td>\n",
       "      <td>105565000</td>\n",
       "    </tr>\n",
       "    <tr>\n",
       "      <th>6</th>\n",
       "      <td>WA</td>\n",
       "      <td>22152500</td>\n",
       "    </tr>\n",
       "  </tbody>\n",
       "</table>\n",
       "</div>"
      ],
      "text/plain": [
       "  State      Sales\n",
       "0   NSW   74970000\n",
       "1    NT   22580000\n",
       "2   QLD   33417500\n",
       "3    SA   58857500\n",
       "4   TAS   22760000\n",
       "5   VIC  105565000\n",
       "6    WA   22152500"
      ]
     },
     "execution_count": 58,
     "metadata": {},
     "output_type": "execute_result"
    }
   ],
   "source": [
    "df_grouped_by_state = df_sales.groupby(['State'])['Sales'].sum().reset_index()\n",
    "df_grouped_by_state"
   ]
  },
  {
   "cell_type": "code",
   "execution_count": 60,
   "id": "ac4c8b3b-9c16-44ba-83ca-b3f9051e9216",
   "metadata": {},
   "outputs": [
    {
     "data": {
      "text/html": [
       "<div>\n",
       "<style scoped>\n",
       "    .dataframe tbody tr th:only-of-type {\n",
       "        vertical-align: middle;\n",
       "    }\n",
       "\n",
       "    .dataframe tbody tr th {\n",
       "        vertical-align: top;\n",
       "    }\n",
       "\n",
       "    .dataframe thead th {\n",
       "        text-align: right;\n",
       "    }\n",
       "</style>\n",
       "<table border=\"1\" class=\"dataframe\">\n",
       "  <thead>\n",
       "    <tr style=\"text-align: right;\">\n",
       "      <th></th>\n",
       "      <th>Month</th>\n",
       "      <th>Sales</th>\n",
       "    </tr>\n",
       "  </thead>\n",
       "  <tbody>\n",
       "    <tr>\n",
       "      <th>0</th>\n",
       "      <td>10</td>\n",
       "      <td>114290000</td>\n",
       "    </tr>\n",
       "    <tr>\n",
       "      <th>1</th>\n",
       "      <td>11</td>\n",
       "      <td>90682500</td>\n",
       "    </tr>\n",
       "    <tr>\n",
       "      <th>2</th>\n",
       "      <td>12</td>\n",
       "      <td>135330000</td>\n",
       "    </tr>\n",
       "  </tbody>\n",
       "</table>\n",
       "</div>"
      ],
      "text/plain": [
       "   Month      Sales\n",
       "0     10  114290000\n",
       "1     11   90682500\n",
       "2     12  135330000"
      ]
     },
     "execution_count": 60,
     "metadata": {},
     "output_type": "execute_result"
    }
   ],
   "source": [
    "df_grouped_by_month = df_sales.groupby(['Month'])['Sales'].sum().reset_index()\n",
    "df_grouped_by_month"
   ]
  },
  {
   "cell_type": "code",
   "execution_count": null,
   "id": "4b6c0ddd-c6b5-45b6-87d7-47dc98bc8639",
   "metadata": {},
   "outputs": [],
   "source": []
  }
 ],
 "metadata": {
  "kernelspec": {
   "display_name": "Python 3 (ipykernel)",
   "language": "python",
   "name": "python3"
  },
  "language_info": {
   "codemirror_mode": {
    "name": "ipython",
    "version": 3
   },
   "file_extension": ".py",
   "mimetype": "text/x-python",
   "name": "python",
   "nbconvert_exporter": "python",
   "pygments_lexer": "ipython3",
   "version": "3.12.1"
  }
 },
 "nbformat": 4,
 "nbformat_minor": 5
}
